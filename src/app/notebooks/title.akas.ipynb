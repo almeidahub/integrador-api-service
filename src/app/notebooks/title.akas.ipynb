{
 "cells": [
  {
   "cell_type": "code",
   "execution_count": 1,
   "metadata": {},
   "outputs": [],
   "source": [
    "from pyspark.sql import SparkSession"
   ]
  },
  {
   "cell_type": "code",
   "execution_count": 2,
   "metadata": {},
   "outputs": [],
   "source": [
    "spark = SparkSession.builder\\\n",
    "            .master('local[*]') \\\n",
    "            .appName('spark') \\\n",
    "            .getOrCreate()"
   ]
  },
  {
   "cell_type": "code",
   "execution_count": 3,
   "metadata": {},
   "outputs": [],
   "source": [
    "movies = spark.read.csv('data/title.basics.tsv', sep='\\t', header=True, nullValue='\\\\N')\n",
    "movies = movies.select('tconst') \\\n",
    "            .filter(movies.titleType == 'movie') \\\n",
    "            .filter(movies.isAdult == 0)"
   ]
  },
  {
   "cell_type": "code",
   "execution_count": 4,
   "metadata": {},
   "outputs": [],
   "source": [
    "akas = spark.read.csv('data/title.akas.tsv', sep='\\t', header=True, nullValue='\\\\N')"
   ]
  },
  {
   "cell_type": "code",
   "execution_count": 5,
   "metadata": {},
   "outputs": [
    {
     "name": "stdout",
     "output_type": "stream",
     "text": [
      "root\n",
      " |-- titleId: string (nullable = true)\n",
      " |-- ordering: string (nullable = true)\n",
      " |-- title: string (nullable = true)\n",
      " |-- region: string (nullable = true)\n",
      " |-- language: string (nullable = true)\n",
      " |-- types: string (nullable = true)\n",
      " |-- attributes: string (nullable = true)\n",
      " |-- isOriginalTitle: string (nullable = true)\n",
      "\n"
     ]
    }
   ],
   "source": [
    "akas.printSchema()"
   ]
  },
  {
   "cell_type": "code",
   "execution_count": 6,
   "metadata": {},
   "outputs": [
    {
     "name": "stdout",
     "output_type": "stream",
     "text": [
      "+---------+--------+-------------------------+------+--------+-----------+-------------+---------------+\n",
      "|titleId  |ordering|title                    |region|language|types      |attributes   |isOriginalTitle|\n",
      "+---------+--------+-------------------------+------+--------+-----------+-------------+---------------+\n",
      "|tt0000001|1       |Карменсіта               |UA    |null    |imdbDisplay|null         |0              |\n",
      "|tt0000001|2       |Carmencita               |DE    |null    |null       |literal title|0              |\n",
      "|tt0000001|3       |Carmencita - spanyol tánc|HU    |null    |imdbDisplay|null         |0              |\n",
      "|tt0000001|4       |Καρμενσίτα               |GR    |null    |imdbDisplay|null         |0              |\n",
      "|tt0000001|5       |Карменсита               |RU    |null    |imdbDisplay|null         |0              |\n",
      "+---------+--------+-------------------------+------+--------+-----------+-------------+---------------+\n",
      "only showing top 5 rows\n",
      "\n"
     ]
    }
   ],
   "source": [
    "akas.show(5, False)"
   ]
  },
  {
   "attachments": {},
   "cell_type": "markdown",
   "metadata": {},
   "source": [
    "Limpeza dos Dados"
   ]
  },
  {
   "cell_type": "code",
   "execution_count": 7,
   "metadata": {},
   "outputs": [
    {
     "name": "stdout",
     "output_type": "stream",
     "text": [
      "+---------+------------------------+------+--------+---------------+\n",
      "|tconst   |title                   |region|language|isOriginalTitle|\n",
      "+---------+------------------------+------+--------+---------------+\n",
      "|tt0000862|Faldgruben              |null  |null    |1              |\n",
      "|tt0000862|Faldgruben              |DK    |null    |0              |\n",
      "|tt0000941|Locura de amor          |null  |null    |1              |\n",
      "|tt0000941|Love Crazy              |XWW   |en      |0              |\n",
      "|tt0000941|Locura de amor          |ES    |null    |0              |\n",
      "|tt0001051|El sueño milagroso      |ES    |null    |0              |\n",
      "|tt0001051|El sueño milagroso      |null  |null    |1              |\n",
      "|tt0001051|Magical Dream           |XWW   |en      |0              |\n",
      "|tt0001059|O Terremoto de Benavente|null  |null    |1              |\n",
      "|tt0001059|O Terremoto de Benavente|PT    |null    |0              |\n",
      "+---------+------------------------+------+--------+---------------+\n",
      "only showing top 10 rows\n",
      "\n"
     ]
    }
   ],
   "source": [
    "movies_akas = movies.join(akas, movies.tconst == akas.titleId, how='inner')\\\n",
    "                    .select('tconst','title','region','language','isOriginalTitle')\\\n",
    "\n",
    "movies_akas.show(10, False)"
   ]
  },
  {
   "cell_type": "code",
   "execution_count": 8,
   "metadata": {},
   "outputs": [],
   "source": [
    "del movies\n",
    "del akas"
   ]
  },
  {
   "cell_type": "code",
   "execution_count": 9,
   "metadata": {},
   "outputs": [
    {
     "name": "stdout",
     "output_type": "stream",
     "text": [
      "root\n",
      " |-- tconst: string (nullable = true)\n",
      " |-- title: string (nullable = true)\n",
      " |-- region: string (nullable = true)\n",
      " |-- language: string (nullable = true)\n",
      " |-- isOriginalTitle: string (nullable = true)\n",
      "\n"
     ]
    }
   ],
   "source": [
    "movies_akas.printSchema()"
   ]
  },
  {
   "attachments": {},
   "cell_type": "markdown",
   "metadata": {},
   "source": [
    "Armazenamento dos Dados"
   ]
  },
  {
   "cell_type": "code",
   "execution_count": 11,
   "metadata": {},
   "outputs": [],
   "source": [
    "import psycopg2"
   ]
  },
  {
   "cell_type": "code",
   "execution_count": 12,
   "metadata": {},
   "outputs": [],
   "source": [
    "DATABASE_CONFIG = {\n",
    "    'host':'localhost',\n",
    "    'port': '5432',\n",
    "    'database':'sistema-de-recomendacao',\n",
    "    'user' :'flask',\n",
    "    'password':'password'\n",
    "}"
   ]
  },
  {
   "cell_type": "code",
   "execution_count": 18,
   "metadata": {},
   "outputs": [],
   "source": [
    "conn = psycopg2.connect(**DATABASE_CONFIG)\n",
    "cur = conn.cursor()"
   ]
  },
  {
   "cell_type": "code",
   "execution_count": 19,
   "metadata": {},
   "outputs": [],
   "source": [
    "cur.execute(f'''\n",
    "            DROP TABLE IF EXISTS akas_movie;\n",
    "            \n",
    "            CREATE TABLE akas_movie(\n",
    "                id INT GENERATED ALWAYS AS IDENTITY,\n",
    "                tconst varchar (50) NOT NULL, \n",
    "                title text NOT NULL,\n",
    "                region varchar (50), \n",
    "                language varchar (50),\n",
    "                isOriginalTitle integer, \n",
    "                PRIMARY KEY (id)\n",
    "            );''')"
   ]
  },
  {
   "cell_type": "code",
   "execution_count": 15,
   "metadata": {},
   "outputs": [],
   "source": [
    "data = [tuple(akas) for akas in movies_akas.collect()]\n",
    "template = ','.join(['%s'] * len(data))"
   ]
  },
  {
   "cell_type": "code",
   "execution_count": 16,
   "metadata": {},
   "outputs": [],
   "source": [
    "columns = ','.join(movies_akas.columns)"
   ]
  },
  {
   "cell_type": "code",
   "execution_count": 20,
   "metadata": {},
   "outputs": [],
   "source": [
    "query = f'INSERT INTO akas_movie ({columns}) VALUES {template}'\n",
    "cur.execute(query, data)"
   ]
  },
  {
   "cell_type": "code",
   "execution_count": 21,
   "metadata": {},
   "outputs": [],
   "source": [
    "conn.commit()"
   ]
  },
  {
   "cell_type": "code",
   "execution_count": 22,
   "metadata": {},
   "outputs": [],
   "source": [
    "spark.stop()"
   ]
  }
 ],
 "metadata": {
  "kernelspec": {
   "display_name": "env",
   "language": "python",
   "name": "python3"
  },
  "language_info": {
   "codemirror_mode": {
    "name": "ipython",
    "version": 3
   },
   "file_extension": ".py",
   "mimetype": "text/x-python",
   "name": "python",
   "nbconvert_exporter": "python",
   "pygments_lexer": "ipython3",
   "version": "3.10.1"
  },
  "orig_nbformat": 4,
  "vscode": {
   "interpreter": {
    "hash": "771a49d4e56e60a7542dde6360f0e54d24f12b3dcaba23745923d0b4993dca76"
   }
  }
 },
 "nbformat": 4,
 "nbformat_minor": 2
}
