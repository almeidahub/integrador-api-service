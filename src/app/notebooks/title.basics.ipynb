{
 "cells": [
  {
   "cell_type": "code",
   "execution_count": 269,
   "metadata": {},
   "outputs": [],
   "source": [
    "from pyspark.sql import SparkSession, Row\n",
    "from pyspark.sql.functions import when, lit"
   ]
  },
  {
   "cell_type": "code",
   "execution_count": 268,
   "metadata": {},
   "outputs": [
    {
     "name": "stderr",
     "output_type": "stream",
     "text": [
      "UsageError: Line magic function `%%capture` not found.\n"
     ]
    }
   ],
   "source": [
    "spark = SparkSession.builder\\\n",
    "            .master('local[*]') \\\n",
    "            .appName('spark') \\\n",
    "            .getOrCreate()"
   ]
  },
  {
   "cell_type": "code",
   "execution_count": 242,
   "metadata": {},
   "outputs": [],
   "source": [
    "df = spark.read.csv('data/title.basics.tsv', sep='\\t', header=True, nullValue='\\\\N')"
   ]
  },
  {
   "cell_type": "code",
   "execution_count": 243,
   "metadata": {},
   "outputs": [
    {
     "name": "stdout",
     "output_type": "stream",
     "text": [
      "root\n",
      " |-- tconst: string (nullable = true)\n",
      " |-- titleType: string (nullable = true)\n",
      " |-- primaryTitle: string (nullable = true)\n",
      " |-- originalTitle: string (nullable = true)\n",
      " |-- isAdult: string (nullable = true)\n",
      " |-- startYear: string (nullable = true)\n",
      " |-- endYear: string (nullable = true)\n",
      " |-- runtimeMinutes: string (nullable = true)\n",
      " |-- genres: string (nullable = true)\n",
      "\n"
     ]
    }
   ],
   "source": [
    "df.printSchema()"
   ]
  },
  {
   "cell_type": "code",
   "execution_count": 244,
   "metadata": {},
   "outputs": [
    {
     "name": "stdout",
     "output_type": "stream",
     "text": [
      "+---------+---------+--------------------+--------------------+-------+---------+-------+--------------+--------------------+\n",
      "|   tconst|titleType|        primaryTitle|       originalTitle|isAdult|startYear|endYear|runtimeMinutes|              genres|\n",
      "+---------+---------+--------------------+--------------------+-------+---------+-------+--------------+--------------------+\n",
      "|tt0000001|    short|          Carmencita|          Carmencita|      0|     1894|   null|             1|   Documentary,Short|\n",
      "|tt0000002|    short|Le clown et ses c...|Le clown et ses c...|      0|     1892|   null|             5|     Animation,Short|\n",
      "|tt0000003|    short|      Pauvre Pierrot|      Pauvre Pierrot|      0|     1892|   null|             4|Animation,Comedy,...|\n",
      "|tt0000004|    short|         Un bon bock|         Un bon bock|      0|     1892|   null|            12|     Animation,Short|\n",
      "|tt0000005|    short|    Blacksmith Scene|    Blacksmith Scene|      0|     1893|   null|             1|        Comedy,Short|\n",
      "+---------+---------+--------------------+--------------------+-------+---------+-------+--------------+--------------------+\n",
      "only showing top 5 rows\n",
      "\n"
     ]
    }
   ],
   "source": [
    "df.show(5)"
   ]
  },
  {
   "attachments": {},
   "cell_type": "markdown",
   "metadata": {},
   "source": [
    "Limpeza dos Dados"
   ]
  },
  {
   "cell_type": "code",
   "execution_count": 245,
   "metadata": {},
   "outputs": [],
   "source": [
    "df = df.select('tconst','primaryTitle','startYear','runtimeMinutes','genres') \\\n",
    "        .filter(df.titleType == 'movie') \\\n",
    "        .filter(df.isAdult == 0)"
   ]
  },
  {
   "cell_type": "code",
   "execution_count": 246,
   "metadata": {},
   "outputs": [
    {
     "name": "stdout",
     "output_type": "stream",
     "text": [
      "+---------+--------------------+---------+--------------+--------------------+\n",
      "|   tconst|        primaryTitle|startYear|runtimeMinutes|              genres|\n",
      "+---------+--------------------+---------+--------------+--------------------+\n",
      "|tt0000009|          Miss Jerry|     1894|            45|             Romance|\n",
      "|tt0000147|The Corbett-Fitzs...|     1897|           100|Documentary,News,...|\n",
      "|tt0000502|            Bohemios|     1905|           100|                null|\n",
      "|tt0000574|The Story of the ...|     1906|            70|Action,Adventure,...|\n",
      "|tt0000591|    The Prodigal Son|     1907|            90|               Drama|\n",
      "+---------+--------------------+---------+--------------+--------------------+\n",
      "only showing top 5 rows\n",
      "\n"
     ]
    }
   ],
   "source": [
    "df.show(5)"
   ]
  },
  {
   "cell_type": "code",
   "execution_count": 247,
   "metadata": {},
   "outputs": [
    {
     "name": "stdout",
     "output_type": "stream",
     "text": [
      "root\n",
      " |-- tconst: string (nullable = true)\n",
      " |-- primaryTitle: string (nullable = true)\n",
      " |-- startYear: string (nullable = true)\n",
      " |-- runtimeMinutes: string (nullable = true)\n",
      " |-- genres: string (nullable = true)\n",
      "\n"
     ]
    }
   ],
   "source": [
    "df.printSchema()"
   ]
  },
  {
   "cell_type": "code",
   "execution_count": 248,
   "metadata": {},
   "outputs": [],
   "source": [
    "genres = df.select('tconst','genres')\n",
    "movies = df.drop('genres')"
   ]
  },
  {
   "cell_type": "code",
   "execution_count": 249,
   "metadata": {},
   "outputs": [],
   "source": [
    "movies = movies.withColumn('startYear', df.startYear.cast('int'))\\\n",
    "               .withColumn('runtimeMinutes', df.runtimeMinutes.cast('int'))"
   ]
  },
  {
   "cell_type": "code",
   "execution_count": 250,
   "metadata": {},
   "outputs": [
    {
     "name": "stdout",
     "output_type": "stream",
     "text": [
      "root\n",
      " |-- tconst: string (nullable = true)\n",
      " |-- primaryTitle: string (nullable = true)\n",
      " |-- startYear: integer (nullable = true)\n",
      " |-- runtimeMinutes: integer (nullable = true)\n",
      "\n"
     ]
    }
   ],
   "source": [
    "movies.printSchema()"
   ]
  },
  {
   "cell_type": "code",
   "execution_count": 251,
   "metadata": {},
   "outputs": [
    {
     "name": "stdout",
     "output_type": "stream",
     "text": [
      "root\n",
      " |-- tconst: string (nullable = true)\n",
      " |-- genres: string (nullable = true)\n",
      "\n"
     ]
    }
   ],
   "source": [
    "genres.printSchema()"
   ]
  },
  {
   "cell_type": "code",
   "execution_count": 252,
   "metadata": {},
   "outputs": [],
   "source": [
    "def get_unique_genres(list_genres: list[Row]) -> list[str]:\n",
    "    \n",
    "    list_unique_genres = []\n",
    "    \n",
    "    for genres in list_genres:\n",
    "    \n",
    "        genres = genres.__getitem__('genres')\n",
    "        \n",
    "        if genres is None:\n",
    "            continue\n",
    "        \n",
    "        genres = genres.split(',')\n",
    "        \n",
    "        for genre in genres:\n",
    "            if genre not in list_unique_genres:\n",
    "                list_unique_genres.append(genre)\n",
    "                \n",
    "    return list_unique_genres"
   ]
  },
  {
   "cell_type": "code",
   "execution_count": 253,
   "metadata": {},
   "outputs": [],
   "source": [
    "list_genres = genres.select('genres').distinct().collect()\n",
    "list_unique_genres = get_unique_genres(list_genres)"
   ]
  },
  {
   "cell_type": "code",
   "execution_count": 254,
   "metadata": {},
   "outputs": [],
   "source": [
    "for genre in list_unique_genres:\n",
    "    \n",
    "    genres = genres.withColumn(f'is{genre}', \\\n",
    "                when((df.genres.contains(genre)), lit(1)) \\\n",
    "                .otherwise(lit(0)) \\\n",
    "            )"
   ]
  },
  {
   "attachments": {},
   "cell_type": "markdown",
   "metadata": {},
   "source": [
    "Armanezamento dos Dados"
   ]
  },
  {
   "cell_type": "code",
   "execution_count": 255,
   "metadata": {},
   "outputs": [],
   "source": [
    "import psycopg2"
   ]
  },
  {
   "cell_type": "code",
   "execution_count": 256,
   "metadata": {},
   "outputs": [],
   "source": [
    "DATABASE_CONFIG = {\n",
    "    'host':'localhost',\n",
    "    'port': '5432',\n",
    "    'database':'sistema-de-recomendacao',\n",
    "    'user' :'flask',\n",
    "    'password':'password'\n",
    "}"
   ]
  },
  {
   "cell_type": "code",
   "execution_count": 257,
   "metadata": {},
   "outputs": [],
   "source": [
    "conn = psycopg2.connect(**DATABASE_CONFIG)\n",
    "cur = conn.cursor()"
   ]
  },
  {
   "cell_type": "code",
   "execution_count": 258,
   "metadata": {},
   "outputs": [],
   "source": [
    "columns_genres = [f'{str(column).replace(\"-\",\"\")} integer NOT NULL' for column in genres.columns if 'is' in column]"
   ]
  },
  {
   "cell_type": "code",
   "execution_count": 259,
   "metadata": {},
   "outputs": [],
   "source": [
    "cur.execute(f'''\n",
    "            DROP TABLE IF EXISTS movie;\n",
    "            DROP TABLE IF EXISTS genres_movie;\n",
    "            \n",
    "            CREATE TABLE movie(\n",
    "                tconst varchar (50) NOT NULL, \n",
    "                primaryTitle text NOT NULL, \n",
    "                startYear integer, \n",
    "                runtimeMinutes integer,\n",
    "                PRIMARY KEY (tconst)\n",
    "            );\n",
    "        \n",
    "            CREATE TABLE genres_movie(\n",
    "                id INT GENERATED ALWAYS AS IDENTITY,\n",
    "                tconst varchar (50) NOT NULL,\n",
    "                genres varchar(255),\n",
    "                {', '.join(columns_genres)},\n",
    "                PRIMARY KEY(id)\n",
    "            );''')"
   ]
  },
  {
   "cell_type": "code",
   "execution_count": 260,
   "metadata": {},
   "outputs": [],
   "source": [
    "data = [tuple(movie) for movie in movies.collect()]\n",
    "template = ','.join(['%s'] * len(data))"
   ]
  },
  {
   "cell_type": "code",
   "execution_count": 261,
   "metadata": {},
   "outputs": [],
   "source": [
    "columns = ','.join(movies.columns)"
   ]
  },
  {
   "cell_type": "code",
   "execution_count": 262,
   "metadata": {},
   "outputs": [],
   "source": [
    "query = f'INSERT INTO movie ({columns}) VALUES {template}'\n",
    "cur.execute(query, data)"
   ]
  },
  {
   "cell_type": "code",
   "execution_count": 263,
   "metadata": {},
   "outputs": [],
   "source": [
    "data = [tuple(genre) for genre in genres.collect()]\n",
    "template = ','.join(['%s'] * len(data))"
   ]
  },
  {
   "cell_type": "code",
   "execution_count": 264,
   "metadata": {},
   "outputs": [],
   "source": [
    "columns = ','.join([str(column).replace('-','') for column in genres.columns])"
   ]
  },
  {
   "cell_type": "code",
   "execution_count": 265,
   "metadata": {},
   "outputs": [],
   "source": [
    "query = f'INSERT INTO genres_movie ({columns}) VALUES {template}'\n",
    "cur.execute(query, data)"
   ]
  },
  {
   "cell_type": "code",
   "execution_count": 266,
   "metadata": {},
   "outputs": [],
   "source": [
    "conn.commit()"
   ]
  },
  {
   "cell_type": "code",
   "execution_count": null,
   "metadata": {},
   "outputs": [],
   "source": [
    "spark.stop()"
   ]
  }
 ],
 "metadata": {
  "kernelspec": {
   "display_name": "env",
   "language": "python",
   "name": "python3"
  },
  "language_info": {
   "codemirror_mode": {
    "name": "ipython",
    "version": 3
   },
   "file_extension": ".py",
   "mimetype": "text/x-python",
   "name": "python",
   "nbconvert_exporter": "python",
   "pygments_lexer": "ipython3",
   "version": "3.10.1"
  },
  "orig_nbformat": 4,
  "vscode": {
   "interpreter": {
    "hash": "771a49d4e56e60a7542dde6360f0e54d24f12b3dcaba23745923d0b4993dca76"
   }
  }
 },
 "nbformat": 4,
 "nbformat_minor": 2
}
