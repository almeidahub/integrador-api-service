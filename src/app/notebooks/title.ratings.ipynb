{
 "cells": [
  {
   "cell_type": "code",
   "execution_count": 1,
   "metadata": {},
   "outputs": [],
   "source": [
    "from pyspark.sql import SparkSession"
   ]
  },
  {
   "cell_type": "code",
   "execution_count": 2,
   "metadata": {},
   "outputs": [],
   "source": [
    "spark = SparkSession.builder\\\n",
    "            .master('local[*]') \\\n",
    "            .appName('spark') \\\n",
    "            .getOrCreate()"
   ]
  },
  {
   "cell_type": "code",
   "execution_count": 3,
   "metadata": {},
   "outputs": [],
   "source": [
    "movies = spark.read.csv('../../data/title.basics.tsv', sep='\\t', header=True, nullValue='\\\\N')\n",
    "movies = movies.select('tconst') \\\n",
    "            .filter(movies.titleType == 'movie') \\\n",
    "            .filter(movies.isAdult == 0)"
   ]
  },
  {
   "cell_type": "code",
   "execution_count": 5,
   "metadata": {},
   "outputs": [],
   "source": [
    "ratings = spark.read.csv('../../data/title.ratings.tsv', sep='\\t', header=True, nullValue='\\\\N')"
   ]
  },
  {
   "cell_type": "code",
   "execution_count": 7,
   "metadata": {},
   "outputs": [
    {
     "name": "stdout",
     "output_type": "stream",
     "text": [
      "root\n",
      " |-- tconst: string (nullable = true)\n",
      " |-- averageRating: string (nullable = true)\n",
      " |-- numVotes: string (nullable = true)\n",
      "\n"
     ]
    }
   ],
   "source": [
    "ratings.printSchema()"
   ]
  },
  {
   "cell_type": "code",
   "execution_count": 9,
   "metadata": {},
   "outputs": [
    {
     "name": "stdout",
     "output_type": "stream",
     "text": [
      "+---------+-------------+--------+\n",
      "|tconst   |averageRating|numVotes|\n",
      "+---------+-------------+--------+\n",
      "|tt0000001|5.7          |1953    |\n",
      "|tt0000002|5.8          |264     |\n",
      "|tt0000003|6.5          |1787    |\n",
      "|tt0000004|5.6          |179     |\n",
      "|tt0000005|6.2          |2587    |\n",
      "+---------+-------------+--------+\n",
      "only showing top 5 rows\n",
      "\n"
     ]
    }
   ],
   "source": [
    "ratings.show(5, False)"
   ]
  },
  {
   "attachments": {},
   "cell_type": "markdown",
   "metadata": {},
   "source": [
    "Limpeza dos Dados"
   ]
  },
  {
   "cell_type": "code",
   "execution_count": 12,
   "metadata": {},
   "outputs": [
    {
     "name": "stdout",
     "output_type": "stream",
     "text": [
      "root\n",
      " |-- movie_id: string (nullable = true)\n",
      " |-- averageRating: float (nullable = true)\n",
      " |-- numVotes: integer (nullable = true)\n",
      "\n"
     ]
    }
   ],
   "source": [
    "ratings = ratings.withColumn('averageRating', ratings.averageRating.cast('float')) \\\n",
    "                 .withColumn('numVotes', ratings.numVotes.cast('int')) \\\n",
    "                 .withColumnRenamed('tconst', 'movie_id')\n",
    "\n",
    "\n",
    "ratings.printSchema()"
   ]
  },
  {
   "cell_type": "code",
   "execution_count": 13,
   "metadata": {},
   "outputs": [
    {
     "name": "stdout",
     "output_type": "stream",
     "text": [
      "+---------+-------------+--------+\n",
      "|tconst   |averageRating|numVotes|\n",
      "+---------+-------------+--------+\n",
      "|tt0000630|2.8          |26      |\n",
      "|tt0000675|4.2          |20      |\n",
      "|tt0000862|4.4          |17      |\n",
      "|tt0000941|4.5          |24      |\n",
      "|tt0001112|3.8          |43      |\n",
      "|tt0001348|4.0          |12      |\n",
      "|tt0001531|4.6          |15      |\n",
      "|tt0001790|6.2          |51      |\n",
      "|tt0001812|5.5          |14      |\n",
      "|tt0001911|3.6          |24      |\n",
      "+---------+-------------+--------+\n",
      "only showing top 10 rows\n",
      "\n"
     ]
    }
   ],
   "source": [
    "movies_ratings = movies.join(ratings, movies.tconst == ratings.movie_id, how='inner')\\\n",
    "                       .select('tconst','averageRating','numVotes')\n",
    "\n",
    "movies_ratings.show(10, False)"
   ]
  },
  {
   "cell_type": "code",
   "execution_count": 14,
   "metadata": {},
   "outputs": [],
   "source": [
    "del movies\n",
    "del ratings"
   ]
  },
  {
   "cell_type": "code",
   "execution_count": 15,
   "metadata": {},
   "outputs": [
    {
     "name": "stdout",
     "output_type": "stream",
     "text": [
      "root\n",
      " |-- tconst: string (nullable = true)\n",
      " |-- averageRating: float (nullable = true)\n",
      " |-- numVotes: integer (nullable = true)\n",
      "\n"
     ]
    }
   ],
   "source": [
    "movies_ratings.printSchema()"
   ]
  },
  {
   "attachments": {},
   "cell_type": "markdown",
   "metadata": {},
   "source": [
    "Armazenamento dos Dados"
   ]
  },
  {
   "cell_type": "code",
   "execution_count": 16,
   "metadata": {},
   "outputs": [],
   "source": [
    "import psycopg2"
   ]
  },
  {
   "cell_type": "code",
   "execution_count": 17,
   "metadata": {},
   "outputs": [],
   "source": [
    "DATABASE_CONFIG = {\n",
    "    'host':'localhost',\n",
    "    'port': '5432',\n",
    "    'database':'sistema-de-recomendacao',\n",
    "    'user' :'flask',\n",
    "    'password':'password'\n",
    "}"
   ]
  },
  {
   "cell_type": "code",
   "execution_count": 18,
   "metadata": {},
   "outputs": [],
   "source": [
    "conn = psycopg2.connect(**DATABASE_CONFIG)\n",
    "cur = conn.cursor()"
   ]
  },
  {
   "cell_type": "code",
   "execution_count": 19,
   "metadata": {},
   "outputs": [],
   "source": [
    "cur.execute(f'''\n",
    "            DROP TABLE IF EXISTS ratings_movie;\n",
    "            \n",
    "            CREATE TABLE ratings_movie(\n",
    "                id INT GENERATED ALWAYS AS IDENTITY,\n",
    "                tconst varchar (50) NOT NULL, \n",
    "                averageRating numeric NOT NULL,\n",
    "                numVotes integer NOT NULL,\n",
    "                PRIMARY KEY (id)\n",
    "            );''')"
   ]
  },
  {
   "cell_type": "code",
   "execution_count": 20,
   "metadata": {},
   "outputs": [],
   "source": [
    "data = [tuple(ratings) for ratings in movies_ratings.collect()]\n",
    "template = ','.join(['%s'] * len(data))"
   ]
  },
  {
   "cell_type": "code",
   "execution_count": 21,
   "metadata": {},
   "outputs": [],
   "source": [
    "columns = ','.join(movies_ratings.columns)"
   ]
  },
  {
   "cell_type": "code",
   "execution_count": 22,
   "metadata": {},
   "outputs": [],
   "source": [
    "query = f'INSERT INTO ratings_movie ({columns}) VALUES {template}'\n",
    "cur.execute(query, data)"
   ]
  },
  {
   "cell_type": "code",
   "execution_count": 23,
   "metadata": {},
   "outputs": [],
   "source": [
    "conn.commit()"
   ]
  },
  {
   "cell_type": "code",
   "execution_count": 24,
   "metadata": {},
   "outputs": [],
   "source": [
    "spark.stop()"
   ]
  }
 ],
 "metadata": {
  "kernelspec": {
   "display_name": "env",
   "language": "python",
   "name": "python3"
  },
  "language_info": {
   "codemirror_mode": {
    "name": "ipython",
    "version": 3
   },
   "file_extension": ".py",
   "mimetype": "text/x-python",
   "name": "python",
   "nbconvert_exporter": "python",
   "pygments_lexer": "ipython3",
   "version": "3.10.1"
  },
  "orig_nbformat": 4,
  "vscode": {
   "interpreter": {
    "hash": "771a49d4e56e60a7542dde6360f0e54d24f12b3dcaba23745923d0b4993dca76"
   }
  }
 },
 "nbformat": 4,
 "nbformat_minor": 2
}
