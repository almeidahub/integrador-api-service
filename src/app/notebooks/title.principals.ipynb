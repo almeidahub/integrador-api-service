{
 "cells": [
  {
   "cell_type": "code",
   "execution_count": 1,
   "metadata": {},
   "outputs": [],
   "source": [
    "from pyspark.sql import SparkSession"
   ]
  },
  {
   "cell_type": "code",
   "execution_count": 2,
   "metadata": {},
   "outputs": [],
   "source": [
    "spark = SparkSession.builder\\\n",
    "            .master('local[*]') \\\n",
    "            .appName('spark') \\\n",
    "            .getOrCreate()"
   ]
  },
  {
   "cell_type": "code",
   "execution_count": 3,
   "metadata": {},
   "outputs": [],
   "source": [
    "movies = spark.read.csv('data/title.basics.tsv', sep='\\t', header=True, nullValue='\\\\N')\n",
    "movies = movies.select('tconst') \\\n",
    "            .filter(movies.titleType == 'movie') \\\n",
    "            .filter(movies.isAdult == 0)"
   ]
  },
  {
   "cell_type": "code",
   "execution_count": 4,
   "metadata": {},
   "outputs": [],
   "source": [
    "names = spark.read.csv('data/name.basics.tsv', sep='\\t', header=True, nullValue='\\\\N')\n",
    "names = names.select('nconst','primaryName')"
   ]
  },
  {
   "cell_type": "code",
   "execution_count": 5,
   "metadata": {},
   "outputs": [],
   "source": [
    "df = spark.read.csv('data/title.principals.tsv', sep='\\t', header=True, nullValue='\\\\N')"
   ]
  },
  {
   "cell_type": "code",
   "execution_count": 6,
   "metadata": {},
   "outputs": [
    {
     "name": "stdout",
     "output_type": "stream",
     "text": [
      "root\n",
      " |-- tconst: string (nullable = true)\n",
      " |-- ordering: string (nullable = true)\n",
      " |-- nconst: string (nullable = true)\n",
      " |-- category: string (nullable = true)\n",
      " |-- job: string (nullable = true)\n",
      " |-- characters: string (nullable = true)\n",
      "\n"
     ]
    }
   ],
   "source": [
    "df.printSchema()"
   ]
  },
  {
   "cell_type": "code",
   "execution_count": 7,
   "metadata": {},
   "outputs": [
    {
     "name": "stdout",
     "output_type": "stream",
     "text": [
      "+---------+--------+---------+---------------+-----------------------+----------+\n",
      "|tconst   |ordering|nconst   |category       |job                    |characters|\n",
      "+---------+--------+---------+---------------+-----------------------+----------+\n",
      "|tt0000001|1       |nm1588970|self           |null                   |[\"Self\"]  |\n",
      "|tt0000001|2       |nm0005690|director       |null                   |null      |\n",
      "|tt0000001|3       |nm0374658|cinematographer|director of photography|null      |\n",
      "|tt0000002|1       |nm0721526|director       |null                   |null      |\n",
      "|tt0000002|2       |nm1335271|composer       |null                   |null      |\n",
      "+---------+--------+---------+---------------+-----------------------+----------+\n",
      "only showing top 5 rows\n",
      "\n"
     ]
    }
   ],
   "source": [
    "df.show(5, False)"
   ]
  },
  {
   "attachments": {},
   "cell_type": "markdown",
   "metadata": {},
   "source": [
    "Limpeza dos Dados"
   ]
  },
  {
   "cell_type": "code",
   "execution_count": 8,
   "metadata": {},
   "outputs": [],
   "source": [
    "df = df.select('tconst','ordering','nconst','category') \\\n",
    "       .filter(df.ordering <= 3) \\\n",
    "       .withColumnRenamed('tconst','movie_id')"
   ]
  },
  {
   "cell_type": "code",
   "execution_count": 9,
   "metadata": {},
   "outputs": [
    {
     "name": "stdout",
     "output_type": "stream",
     "text": [
      "+---------+--------+---------+--------+\n",
      "|tconst   |ordering|name_id  |category|\n",
      "+---------+--------+---------+--------+\n",
      "|tt0000630|1       |nm0624446|actress |\n",
      "|tt0000630|2       |nm0143333|director|\n",
      "|tt0000630|3       |nm0000636|writer  |\n",
      "|tt0000675|1       |nm0194088|director|\n",
      "|tt0000675|2       |nm0148859|writer  |\n",
      "|tt0000862|1       |nm5289829|actor   |\n",
      "|tt0000862|2       |nm0264569|actress |\n",
      "|tt0000862|3       |nm0386036|actor   |\n",
      "|tt0000941|1       |nm0034453|actor   |\n",
      "|tt0000941|2       |nm0140054|actor   |\n",
      "+---------+--------+---------+--------+\n",
      "only showing top 10 rows\n",
      "\n"
     ]
    }
   ],
   "source": [
    "movies_principals = movies.join(df, movies.tconst == df.movie_id, how='inner')\\\n",
    "                          .select('tconst','ordering','nconst','category')\\\n",
    "                          .withColumnRenamed('nconst','name_id')\n",
    "\n",
    "movies_principals.show(10, False)"
   ]
  },
  {
   "cell_type": "code",
   "execution_count": 10,
   "metadata": {},
   "outputs": [],
   "source": [
    "del movies\n",
    "del df"
   ]
  },
  {
   "cell_type": "code",
   "execution_count": 11,
   "metadata": {},
   "outputs": [],
   "source": [
    "movies_principals = movies_principals.join(names, names.nconst == movies_principals.name_id, how='inner')"
   ]
  },
  {
   "cell_type": "code",
   "execution_count": 12,
   "metadata": {},
   "outputs": [
    {
     "name": "stdout",
     "output_type": "stream",
     "text": [
      "+---------+--------+---------+---------------+---------+------------+\n",
      "|tconst   |ordering|name_id  |category       |nconst   |primaryName |\n",
      "+---------+--------+---------+---------------+---------+------------+\n",
      "|tt5752346|1       |nm0000004|archive_footage|nm0000004|John Belushi|\n",
      "|tt0082801|1       |nm0000004|actor          |nm0000004|John Belushi|\n",
      "|tt0077975|1       |nm0000004|actor          |nm0000004|John Belushi|\n",
      "|tt0082200|1       |nm0000004|actor          |nm0000004|John Belushi|\n",
      "|tt0078723|1       |nm0000004|actor          |nm0000004|John Belushi|\n",
      "|tt0080455|1       |nm0000004|actor          |nm0000004|John Belushi|\n",
      "|tt0079660|3       |nm0000004|actor          |nm0000004|John Belushi|\n",
      "|tt0020875|3       |nm0000012|actress        |nm0000012|Bette Davis |\n",
      "|tt0022735|2       |nm0000012|actress        |nm0000012|Bette Davis |\n",
      "|tt0023394|3       |nm0000012|actress        |nm0000012|Bette Davis |\n",
      "+---------+--------+---------+---------------+---------+------------+\n",
      "only showing top 10 rows\n",
      "\n"
     ]
    }
   ],
   "source": [
    "movies_principals.show(10, False)"
   ]
  },
  {
   "cell_type": "code",
   "execution_count": 13,
   "metadata": {},
   "outputs": [],
   "source": [
    "del names"
   ]
  },
  {
   "cell_type": "code",
   "execution_count": 14,
   "metadata": {},
   "outputs": [],
   "source": [
    "movies_principals = movies_principals.select('tconst','nconst','primaryName','category','ordering')"
   ]
  },
  {
   "cell_type": "code",
   "execution_count": 15,
   "metadata": {},
   "outputs": [
    {
     "name": "stdout",
     "output_type": "stream",
     "text": [
      "+---------+---------+------------+---------------+--------+\n",
      "|tconst   |nconst   |primaryName |category       |ordering|\n",
      "+---------+---------+------------+---------------+--------+\n",
      "|tt5752346|nm0000004|John Belushi|archive_footage|1       |\n",
      "|tt0082801|nm0000004|John Belushi|actor          |1       |\n",
      "|tt0077975|nm0000004|John Belushi|actor          |1       |\n",
      "|tt0082200|nm0000004|John Belushi|actor          |1       |\n",
      "|tt0078723|nm0000004|John Belushi|actor          |1       |\n",
      "|tt0080455|nm0000004|John Belushi|actor          |1       |\n",
      "|tt0079660|nm0000004|John Belushi|actor          |3       |\n",
      "|tt0020875|nm0000012|Bette Davis |actress        |3       |\n",
      "|tt0022735|nm0000012|Bette Davis |actress        |2       |\n",
      "|tt0023394|nm0000012|Bette Davis |actress        |3       |\n",
      "+---------+---------+------------+---------------+--------+\n",
      "only showing top 10 rows\n",
      "\n"
     ]
    }
   ],
   "source": [
    "movies_principals.show(10, False)"
   ]
  },
  {
   "cell_type": "code",
   "execution_count": 16,
   "metadata": {},
   "outputs": [
    {
     "name": "stdout",
     "output_type": "stream",
     "text": [
      "root\n",
      " |-- tconst: string (nullable = true)\n",
      " |-- nconst: string (nullable = true)\n",
      " |-- primaryName: string (nullable = true)\n",
      " |-- category: string (nullable = true)\n",
      " |-- ordering: string (nullable = true)\n",
      "\n"
     ]
    }
   ],
   "source": [
    "movies_principals.printSchema()"
   ]
  },
  {
   "cell_type": "code",
   "execution_count": 17,
   "metadata": {},
   "outputs": [],
   "source": [
    "movies_principals = movies_principals.withColumn('ordering', movies_principals.ordering.cast('int'))"
   ]
  },
  {
   "attachments": {},
   "cell_type": "markdown",
   "metadata": {},
   "source": [
    "Armazenamento dos Dados"
   ]
  },
  {
   "cell_type": "code",
   "execution_count": 18,
   "metadata": {},
   "outputs": [],
   "source": [
    "import psycopg2"
   ]
  },
  {
   "cell_type": "code",
   "execution_count": 19,
   "metadata": {},
   "outputs": [],
   "source": [
    "DATABASE_CONFIG = {\n",
    "    'host':'localhost',\n",
    "    'port': '5432',\n",
    "    'database':'sistema-de-recomendacao',\n",
    "    'user' :'flask',\n",
    "    'password':'password'\n",
    "}"
   ]
  },
  {
   "cell_type": "code",
   "execution_count": 20,
   "metadata": {},
   "outputs": [],
   "source": [
    "conn = psycopg2.connect(**DATABASE_CONFIG)\n",
    "cur = conn.cursor()"
   ]
  },
  {
   "cell_type": "code",
   "execution_count": 21,
   "metadata": {},
   "outputs": [],
   "source": [
    "cur.execute(f'''\n",
    "            DROP TABLE IF EXISTS principals_movie;\n",
    "            \n",
    "            CREATE TABLE principals_movie(\n",
    "                id INT GENERATED ALWAYS AS IDENTITY,\n",
    "                tconst varchar (50) NOT NULL, \n",
    "                nconst varchar (50) NOT NULL,\n",
    "                primaryName text NOT NULL, \n",
    "                category varchar (255) NOT NULL,\n",
    "                ordering integer, \n",
    "                PRIMARY KEY (id)\n",
    "            );''')"
   ]
  },
  {
   "cell_type": "code",
   "execution_count": 22,
   "metadata": {},
   "outputs": [],
   "source": [
    "data = [tuple(movie) for movie in movies_principals.collect()]\n",
    "template = ','.join(['%s'] * len(data))"
   ]
  },
  {
   "cell_type": "code",
   "execution_count": 23,
   "metadata": {},
   "outputs": [],
   "source": [
    "columns = ','.join(movies_principals.columns)"
   ]
  },
  {
   "cell_type": "code",
   "execution_count": 24,
   "metadata": {},
   "outputs": [],
   "source": [
    "query = f'INSERT INTO principals_movie ({columns}) VALUES {template}'\n",
    "cur.execute(query, data)"
   ]
  },
  {
   "cell_type": "code",
   "execution_count": 25,
   "metadata": {},
   "outputs": [],
   "source": [
    "conn.commit()"
   ]
  },
  {
   "cell_type": "code",
   "execution_count": 26,
   "metadata": {},
   "outputs": [],
   "source": [
    "spark.stop()"
   ]
  },
  {
   "cell_type": "code",
   "execution_count": null,
   "metadata": {},
   "outputs": [],
   "source": []
  }
 ],
 "metadata": {
  "kernelspec": {
   "display_name": "env",
   "language": "python",
   "name": "python3"
  },
  "language_info": {
   "codemirror_mode": {
    "name": "ipython",
    "version": 3
   },
   "file_extension": ".py",
   "mimetype": "text/x-python",
   "name": "python",
   "nbconvert_exporter": "python",
   "pygments_lexer": "ipython3",
   "version": "3.10.1"
  },
  "orig_nbformat": 4,
  "vscode": {
   "interpreter": {
    "hash": "771a49d4e56e60a7542dde6360f0e54d24f12b3dcaba23745923d0b4993dca76"
   }
  }
 },
 "nbformat": 4,
 "nbformat_minor": 2
}
